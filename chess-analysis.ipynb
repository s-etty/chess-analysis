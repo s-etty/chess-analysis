{
 "cells": [
  {
   "cell_type": "markdown",
   "id": "a6b8bc8e",
   "metadata": {},
   "source": [
    "# Chess Analysis with Stockfish\n",
    "\n",
    "I play way too much chess, but honestly, I'm terrible. Thinking about the games I've played recently, I would say I do pretty well up until somewhere around the tenth move, then things start to break down. But can I can get a better sense of when I begin to fall apart? Would I be a better player if I could keep it together longer?\n",
    "\n",
    "## Hypothesis\n",
    "\n",
    "If I am able to make my first blunder or mistake later in the game, I can become a better chess player. In theory, if my opponent makes the first mistake and I'm able to capatilize on it, then I should win.\n",
    "\n",
    "### Resources\n",
    "\n",
    "[Stockfish](https://stockfishchess.org/) is an open source chess engine that can recommend the best moves, identify mistakes, and more. I'll be using this engine to analyze all of the games on my [chess.com](https://www.chess.com/) profile\n",
    "\n",
    "### Get the Data\n",
    "\n",
    "The code below will load games in Portable Game Notation (PGN) from Chess.com. Change the value of the variable user to analyze a different person.\n"
   ]
  },
  {
   "cell_type": "code",
   "execution_count": 1,
   "id": "e3d20b45",
   "metadata": {},
   "outputs": [],
   "source": [
    "from stockfish import Stockfish\n",
    "import numpy as np\n",
    "import pandas as pd\n",
    "import chess\n",
    "import chess.pgn\n",
    "import datetime\n",
    "import tqdm\n",
    "import matplotlib.pyplot as plt\n",
    "import seaborn as sns\n",
    "import os\n",
    "import requests\n",
    "import io\n",
    "from get_data import *\n",
    "\n",
    "# this is the path to the .exe of stockfish, not the stockfish python module\n",
    "#stockfish = Stockfish(path=\"stockfish_15.1_win_x64_avx2/stockfish-windows-2022-x86-64-avx2.exe\")\n",
    "stockfish = Stockfish(path=\"/home/sam/Desktop/stockfish_14_linux_x64/stockfish_14_x64\")"
   ]
  },
  {
   "cell_type": "code",
   "execution_count": 2,
   "id": "5758bae4",
   "metadata": {},
   "outputs": [
    {
     "data": {
      "text/plain": [
       "'d2d4'"
      ]
     },
     "execution_count": 2,
     "metadata": {},
     "output_type": "execute_result"
    }
   ],
   "source": [
    "# check the stockfish engine is working\n",
    "stockfish.set_position([\"f2f3\", \"e7e5\"])\n",
    "stockfish.get_best_move()"
   ]
  },
  {
   "cell_type": "code",
   "execution_count": 3,
   "id": "bd41d121",
   "metadata": {},
   "outputs": [],
   "source": [
    "# load all of the chess data for a given user\n",
    "user = 'settty'\n",
    "games = get_chess_data(user)"
   ]
  },
  {
   "cell_type": "code",
   "execution_count": 4,
   "id": "33be2343",
   "metadata": {},
   "outputs": [
    {
     "data": {
      "text/html": [
       "<div>\n",
       "<style scoped>\n",
       "    .dataframe tbody tr th:only-of-type {\n",
       "        vertical-align: middle;\n",
       "    }\n",
       "\n",
       "    .dataframe tbody tr th {\n",
       "        vertical-align: top;\n",
       "    }\n",
       "\n",
       "    .dataframe thead th {\n",
       "        text-align: right;\n",
       "    }\n",
       "</style>\n",
       "<table border=\"1\" class=\"dataframe\">\n",
       "  <thead>\n",
       "    <tr style=\"text-align: right;\">\n",
       "      <th></th>\n",
       "      <th>game_link</th>\n",
       "      <th>game_date</th>\n",
       "      <th>white</th>\n",
       "      <th>black</th>\n",
       "      <th>result</th>\n",
       "      <th>opening</th>\n",
       "      <th>winner</th>\n",
       "      <th>user_color</th>\n",
       "      <th>winner_count</th>\n",
       "      <th>end_time</th>\n",
       "      <th>time_control</th>\n",
       "      <th>white_elo</th>\n",
       "      <th>black_elo</th>\n",
       "      <th>moves</th>\n",
       "      <th>moves_list</th>\n",
       "      <th>move_number</th>\n",
       "      <th>move_number_actual</th>\n",
       "    </tr>\n",
       "  </thead>\n",
       "  <tbody>\n",
       "    <tr>\n",
       "      <th>0</th>\n",
       "      <td>https://www.chess.com/game/daily/406265119</td>\n",
       "      <td>2022-06-01</td>\n",
       "      <td>muerzi1909</td>\n",
       "      <td>settty</td>\n",
       "      <td>settty won on time</td>\n",
       "      <td>Kings-Fianchetto-Opening-1...d5</td>\n",
       "      <td>settty</td>\n",
       "      <td>black</td>\n",
       "      <td>settty</td>\n",
       "      <td>17:30:05</td>\n",
       "      <td>1/259200</td>\n",
       "      <td>569</td>\n",
       "      <td>400</td>\n",
       "      <td>g2g3</td>\n",
       "      <td>[g2g3]</td>\n",
       "      <td>0</td>\n",
       "      <td>0</td>\n",
       "    </tr>\n",
       "    <tr>\n",
       "      <th>1</th>\n",
       "      <td>https://www.chess.com/game/daily/406265119</td>\n",
       "      <td>2022-06-01</td>\n",
       "      <td>muerzi1909</td>\n",
       "      <td>settty</td>\n",
       "      <td>settty won on time</td>\n",
       "      <td>Kings-Fianchetto-Opening-1...d5</td>\n",
       "      <td>settty</td>\n",
       "      <td>black</td>\n",
       "      <td>settty</td>\n",
       "      <td>17:30:05</td>\n",
       "      <td>1/259200</td>\n",
       "      <td>569</td>\n",
       "      <td>400</td>\n",
       "      <td>d7d5</td>\n",
       "      <td>[g2g3, d7d5]</td>\n",
       "      <td>0</td>\n",
       "      <td>1</td>\n",
       "    </tr>\n",
       "    <tr>\n",
       "      <th>2</th>\n",
       "      <td>https://www.chess.com/game/daily/407262347</td>\n",
       "      <td>2022-06-06</td>\n",
       "      <td>3ajhoffman</td>\n",
       "      <td>settty</td>\n",
       "      <td>3ajhoffman won by checkmate</td>\n",
       "      <td>Queens-Pawn-Opening-Symmetrical-Variation-3.c4</td>\n",
       "      <td>3ajhoffman</td>\n",
       "      <td>black</td>\n",
       "      <td>other</td>\n",
       "      <td>22:51:19</td>\n",
       "      <td>1/86400</td>\n",
       "      <td>800</td>\n",
       "      <td>400</td>\n",
       "      <td>d2d4</td>\n",
       "      <td>[d2d4]</td>\n",
       "      <td>0</td>\n",
       "      <td>0</td>\n",
       "    </tr>\n",
       "    <tr>\n",
       "      <th>3</th>\n",
       "      <td>https://www.chess.com/game/daily/407262347</td>\n",
       "      <td>2022-06-06</td>\n",
       "      <td>3ajhoffman</td>\n",
       "      <td>settty</td>\n",
       "      <td>3ajhoffman won by checkmate</td>\n",
       "      <td>Queens-Pawn-Opening-Symmetrical-Variation-3.c4</td>\n",
       "      <td>3ajhoffman</td>\n",
       "      <td>black</td>\n",
       "      <td>other</td>\n",
       "      <td>22:51:19</td>\n",
       "      <td>1/86400</td>\n",
       "      <td>800</td>\n",
       "      <td>400</td>\n",
       "      <td>d7d5</td>\n",
       "      <td>[d2d4, d7d5]</td>\n",
       "      <td>0</td>\n",
       "      <td>1</td>\n",
       "    </tr>\n",
       "    <tr>\n",
       "      <th>4</th>\n",
       "      <td>https://www.chess.com/game/daily/407262347</td>\n",
       "      <td>2022-06-06</td>\n",
       "      <td>3ajhoffman</td>\n",
       "      <td>settty</td>\n",
       "      <td>3ajhoffman won by checkmate</td>\n",
       "      <td>Queens-Pawn-Opening-Symmetrical-Variation-3.c4</td>\n",
       "      <td>3ajhoffman</td>\n",
       "      <td>black</td>\n",
       "      <td>other</td>\n",
       "      <td>22:51:19</td>\n",
       "      <td>1/86400</td>\n",
       "      <td>800</td>\n",
       "      <td>400</td>\n",
       "      <td>c2c4</td>\n",
       "      <td>[d2d4, d7d5, c2c4]</td>\n",
       "      <td>1</td>\n",
       "      <td>2</td>\n",
       "    </tr>\n",
       "  </tbody>\n",
       "</table>\n",
       "</div>"
      ],
      "text/plain": [
       "                                    game_link  game_date       white   black  \\\n",
       "0  https://www.chess.com/game/daily/406265119 2022-06-01  muerzi1909  settty   \n",
       "1  https://www.chess.com/game/daily/406265119 2022-06-01  muerzi1909  settty   \n",
       "2  https://www.chess.com/game/daily/407262347 2022-06-06  3ajhoffman  settty   \n",
       "3  https://www.chess.com/game/daily/407262347 2022-06-06  3ajhoffman  settty   \n",
       "4  https://www.chess.com/game/daily/407262347 2022-06-06  3ajhoffman  settty   \n",
       "\n",
       "                        result  \\\n",
       "0           settty won on time   \n",
       "1           settty won on time   \n",
       "2  3ajhoffman won by checkmate   \n",
       "3  3ajhoffman won by checkmate   \n",
       "4  3ajhoffman won by checkmate   \n",
       "\n",
       "                                          opening      winner user_color  \\\n",
       "0                 Kings-Fianchetto-Opening-1...d5      settty      black   \n",
       "1                 Kings-Fianchetto-Opening-1...d5      settty      black   \n",
       "2  Queens-Pawn-Opening-Symmetrical-Variation-3.c4  3ajhoffman      black   \n",
       "3  Queens-Pawn-Opening-Symmetrical-Variation-3.c4  3ajhoffman      black   \n",
       "4  Queens-Pawn-Opening-Symmetrical-Variation-3.c4  3ajhoffman      black   \n",
       "\n",
       "  winner_count  end_time time_control white_elo black_elo moves  \\\n",
       "0       settty  17:30:05     1/259200       569       400  g2g3   \n",
       "1       settty  17:30:05     1/259200       569       400  d7d5   \n",
       "2        other  22:51:19      1/86400       800       400  d2d4   \n",
       "3        other  22:51:19      1/86400       800       400  d7d5   \n",
       "4        other  22:51:19      1/86400       800       400  c2c4   \n",
       "\n",
       "           moves_list  move_number  move_number_actual  \n",
       "0              [g2g3]            0                   0  \n",
       "1        [g2g3, d7d5]            0                   1  \n",
       "2              [d2d4]            0                   0  \n",
       "3        [d2d4, d7d5]            0                   1  \n",
       "4  [d2d4, d7d5, c2c4]            1                   2  "
      ]
     },
     "execution_count": 4,
     "metadata": {},
     "output_type": "execute_result"
    }
   ],
   "source": [
    "games.head()"
   ]
  },
  {
   "cell_type": "code",
   "execution_count": 12,
   "id": "db8a5127",
   "metadata": {},
   "outputs": [
    {
     "name": "stdout",
     "output_type": "stream",
     "text": [
      "<class 'pandas.core.frame.DataFrame'>\n",
      "Int64Index: 37322 entries, 0 to 707\n",
      "Data columns (total 17 columns):\n",
      " #   Column              Non-Null Count  Dtype         \n",
      "---  ------              --------------  -----         \n",
      " 0   game_link           37322 non-null  object        \n",
      " 1   game_date           37322 non-null  datetime64[ns]\n",
      " 2   white               37322 non-null  object        \n",
      " 3   black               37322 non-null  object        \n",
      " 4   result              37322 non-null  object        \n",
      " 5   opening             37322 non-null  object        \n",
      " 6   winner              37322 non-null  object        \n",
      " 7   user_color          37322 non-null  object        \n",
      " 8   winner_count        37322 non-null  object        \n",
      " 9   end_time            37322 non-null  object        \n",
      " 10  time_control        37322 non-null  object        \n",
      " 11  white_elo           37322 non-null  object        \n",
      " 12  black_elo           37322 non-null  object        \n",
      " 13  moves               37322 non-null  object        \n",
      " 14  moves_list          37322 non-null  object        \n",
      " 15  move_number         37322 non-null  int64         \n",
      " 16  move_number_actual  37322 non-null  int64         \n",
      "dtypes: datetime64[ns](1), int64(2), object(14)\n",
      "memory usage: 6.4+ MB\n"
     ]
    }
   ],
   "source": [
    "# look at basic description of df\n",
    "games.info()"
   ]
  },
  {
   "cell_type": "code",
   "execution_count": 5,
   "id": "e115ca92",
   "metadata": {},
   "outputs": [
    {
     "data": {
      "text/plain": [
       "settty    365\n",
       "other     318\n",
       "draw       25\n",
       "Name: winner_count, dtype: int64"
      ]
     },
     "execution_count": 5,
     "metadata": {},
     "output_type": "execute_result"
    }
   ],
   "source": [
    "# see how many games user has won, lost, and drawn\n",
    "games.groupby('game_link').first().winner_count.value_counts()"
   ]
  },
  {
   "cell_type": "code",
   "execution_count": null,
   "id": "eefc9e8a",
   "metadata": {},
   "outputs": [],
   "source": [
    "# the data is faster to load from a csv, though with the number of games I have, it's not too slow. But there should be a check\n",
    "# when I get the api working where it looks at the last game in the csv and then gets any games more recent than that and\n",
    "# applies the above loading and cleaning. Will come later\n",
    "#hdr = False  if os.path.isfile('data/loaded_games.csv') else True\n",
    "#loaded_games.to_csv(\"data/loaded_games.csv\", mode = 'a', index = False, header = hdr)"
   ]
  },
  {
   "cell_type": "markdown",
   "id": "610c3daa",
   "metadata": {},
   "source": [
    "### Run the Chess Engine\n",
    "\n",
    "Ok now that we have the data loaded, let's start to run the Stockfish chess engine on games, move by move. This process takes a lot of processing power, so be patient while it analyzes every move. It took about 15 minutes to process 50 games.\n",
    "\n",
    "The chess engine will output an analysis of the board in a unit know as [centipawns](https://en.wiktionary.org/wiki/centipawn#:~:text=Noun,calculation%20purposes%20in%20computer%20chess). A centipawn represents the value of a single pawn. In other words, if you are up 100 centipawns, you are up a single pawn (though it's more complicated than that).\n",
    "\n",
    "One key thing to remember is that when playing as white, a positive centipawn value means white holds a lead, while a negative centipawn value means black holds a lead."
   ]
  },
  {
   "cell_type": "code",
   "execution_count": null,
   "id": "e5397abd",
   "metadata": {},
   "outputs": [],
   "source": [
    "# This will come in handy when looking at the games that are loaded vs the games that have been scored.\n",
    "scored_games['game_date'].max() > scored_games['game_date'].min()"
   ]
  },
  {
   "cell_type": "code",
   "execution_count": null,
   "id": "837465ba",
   "metadata": {},
   "outputs": [],
   "source": [
    "if os.path.isfile('data/scored_games.csv'):\n",
    "    scored_games = pd.read_csv('data/scored_games.csv')\n",
    "#elif os.path.isfile('data/scored_games.csv') & scored_games['game_date'].max() < loaded_games['game_date'].max():\n",
    "    #work on this code later\n",
    "    #print(\"There are newer games to be scored\")\n",
    "else:\n",
    "    rows = []\n",
    "    # this computation is slow as the engine needs to evaluate each move\n",
    "    # should look into ways to make this more efficient. possibly faster to make each move and evaluate as opposed to\n",
    "    # setting the position for each move in the game and evaluate, i.e., use stockfish.make_moves_from_current_position(...) instead\n",
    "    # of using stockfish.set_position(...)\n",
    "    #first_games = games.loc[(games['end_time'] == '23:15:57 PST') | (games['end_time'] == '16:44:56 PST')]\n",
    "\n",
    "    # the line below is for just a couple of games\n",
    "    #for index, row in first_games.iterrows():\n",
    "\n",
    "    # the line below itterates through all rows and is the most general but have no indication of progress\n",
    "    #for index, row in games.iterrows():\n",
    "\n",
    "    # the line below includes a percentage tracker, but is using a static value for number of rows for the df above\n",
    "    for i in tqdm.tqdm(range(len(loaded_games.index))):\n",
    "        row = loaded_games.iloc[i]\n",
    "        new_row = {}\n",
    "        new_row['end_time'] = row['end_time']\n",
    "        stockfish.set_position(row['moves_list'])\n",
    "        scores = stockfish.get_evaluation()\n",
    "        new_row['move_number_actual'] = row['move_number_actual']\n",
    "        new_row['score_type'] =(scores['type'])\n",
    "        new_row['score'] = scores['value'] / 100\n",
    "        rows.append(new_row)\n",
    "\n",
    "    score_df = pd.DataFrame(rows)\n",
    "    scored_games = pd.merge(loaded_games, score_df, on=[\"end_time\", \"move_number_actual\"])\n",
    "    #first_games = first_games.merge(score_df, on=[\"end_time\", \"move_number_actual\"])\n",
    "    \n",
    "scored_games['game_date'] = pd.to_datetime(scored_games['game_date'])"
   ]
  },
  {
   "cell_type": "code",
   "execution_count": null,
   "id": "99f1b361",
   "metadata": {},
   "outputs": [],
   "source": [
    "# this csv will contain the scored games\n",
    "# need to fix that it writes the headers when appending\n",
    "#scored_games.to_csv(\"data/scored_games.csv\", mode = 'a', index=False)"
   ]
  },
  {
   "cell_type": "markdown",
   "id": "72197ca6",
   "metadata": {},
   "source": [
    "### Analyze the Games\n",
    "\n",
    "At this point, we're ready to start analyzing the scored games. We'll label each move as either a blunder, mistake, or neither. Then we'll look at whether making the first blunder or mistake affects the outcome of the game. Lastly, we'll look at the trend in blunders and mistakes made to see if my chess is improving, i.e., if I'm making blunders and mistakes later in the game."
   ]
  },
  {
   "cell_type": "code",
   "execution_count": null,
   "id": "5cc7e3ed",
   "metadata": {},
   "outputs": [],
   "source": [
    "# not sure if this is needed anymore\n",
    "#first_game_copy = first_games.copy()\n",
    "#first_game_copy.loc[first_game_copy['score'] >= 0, 'game_direction'] = 'white'\n",
    "#first_game_copy.loc[first_game_copy['score'] < 0, 'game_direction'] = 'black'\n",
    "#first_game_copy\n",
    "scored_games.info()"
   ]
  },
  {
   "cell_type": "code",
   "execution_count": null,
   "id": "da9ed60d",
   "metadata": {},
   "outputs": [],
   "source": [
    "# negative score change moves in black favor\n",
    "# positive score change moves in white favor\n",
    "# the fill na sets the score change to the score for the first row of each group\n",
    "scored_games['score_change'] = scored_games.groupby('end_time').score.diff().fillna(scored_games['score'])\n",
    "\n",
    "# according to lichess.org, a blunder is any change greater than or equal to 3 pawns\n",
    "# don't forget to ge the absolute value of the score change. A -5.0 change is not greater than 3 but still represents a blunder\n",
    "# favoring black.\n",
    "scored_games['blunder'] = [True if (x >=  3) else False for x in scored_games['score_change'].abs()]\n",
    "\n",
    "# according to lichess.org, a mistake is any change greater than or equal to 1 pawn but less than 3 pawns\n",
    "#df['color'] = ['red' if x == 'Z' else 'green' for x in df['Set']]\n",
    "scored_games['mistake'] = [True if (x >= 1.0) & (x < 3.0) else False for x in scored_games['score_change'].abs()]"
   ]
  },
  {
   "cell_type": "code",
   "execution_count": null,
   "id": "7f9b80b3",
   "metadata": {},
   "outputs": [],
   "source": [
    "#will not include inaccuracies at this point but could be interesting to look at later\n",
    "\n",
    "#identify the user that made the move\n",
    "conditions = [scored_games['move_number_actual'] % 2 == 0,\n",
    "             scored_games['move_number_actual'] % 2 == 1]\n",
    "\n",
    "choices = [scored_games['white'], scored_games['black']]\n",
    "scored_games['player_move'] = np.select(conditions, choices)"
   ]
  },
  {
   "cell_type": "code",
   "execution_count": null,
   "id": "6203dbff",
   "metadata": {},
   "outputs": [],
   "source": [
    "# confirm that mistakes and blunders are being labeled accurately\n",
    "scored_games.loc[(scored_games['mistake'] == True) | (scored_games['blunder']),\n",
    "                 ['game_id', 'white', 'black', 'winner', 'move_number_actual', 'score_change', 'blunder', 'mistake']].head(10)"
   ]
  },
  {
   "cell_type": "code",
   "execution_count": null,
   "id": "24058670",
   "metadata": {},
   "outputs": [],
   "source": [
    "# identify player who made first blunder\n",
    "# odd numbered move_number_actual = black player move, even numbered move_number_actual = white player move\n",
    "first_blnd_mist = scored_games[(scored_games['blunder'] == True) | (scored_games['mistake'] == True)].groupby('end_time').first()\n",
    "first_blnd_mist.loc[first_blnd_mist['move_number_actual'] % 2 == 0, 'first_player_blunder'] = first_blnd_mist['white']\n",
    "first_blnd_mist.loc[first_blnd_mist['move_number_actual'] % 2 == 1, 'first_player_blunder'] = first_blnd_mist['black']\n",
    "first_blnd_mist.loc[first_blnd_mist['winner'] == first_blnd_mist['first_player_blunder'], 'first_blunder_loss'] = False\n",
    "first_blnd_mist.loc[first_blnd_mist['winner'] != first_blnd_mist['first_player_blunder'], 'first_blunder_loss'] = True\n",
    "#first_blnd_mist[['winner', 'first_player_blunder', 'first_blunder_loss']]\n",
    "#first_blnd_mist[['winner', 'blunder', 'mistake', 'move_number_actual']]\n",
    "first_blnd_mist['first_blunder_loss'].value_counts()"
   ]
  },
  {
   "cell_type": "markdown",
   "id": "6a08a891",
   "metadata": {},
   "source": [
    "The code above shows that the player that makes the first blunder or mistake is more likely to lose the game.\n",
    "\n",
    "Note that a game can end without a mistake or blunder being made *and* there is a winner. This happens when someone resigns or times out before a mistake of blunder happens. I know that I have done this and played others that have done this as well. This means that the games above plus draws will not necessarily add up to the total number of games played."
   ]
  },
  {
   "cell_type": "code",
   "execution_count": null,
   "id": "9f710109",
   "metadata": {},
   "outputs": [],
   "source": [
    "user_first_blnd_mist = first_blnd_mist.loc[first_blnd_mist['first_player_blunder'] == user]\n",
    "sns.histplot(data=user_first_blnd_mist, x=\"move_number\", binwidth=1)"
   ]
  },
  {
   "cell_type": "code",
   "execution_count": null,
   "id": "521ce7e9",
   "metadata": {},
   "outputs": [],
   "source": [
    "# get the average move number where the user makes their first mistake or blunder\n",
    "num_games_week = (scored_games.groupby(pd.Grouper(key = 'game_date', freq = \"1W\"))\n",
    "                  ['game_id']\n",
    "                  .agg(num_games = pd.Series.nunique))\n",
    "\n",
    "user_first_blnd_mist_week = (user_first_blnd_mist.groupby(pd.Grouper(key = 'game_date', freq = \"1W\"))\n",
    "                             .agg(min_first_blnd_mist = ('move_number', 'min'),\n",
    "                                 mean_first_blnd_mist = ('move_number', 'mean'),\n",
    "                                 max_first_blnd_mist = ('move_number', 'max')))\n",
    "#user_first_blnd_mist_week\n",
    "user_first_blnd_mist_week = user_first_blnd_mist_week.join(num_games_week)"
   ]
  },
  {
   "cell_type": "code",
   "execution_count": null,
   "id": "be68a6a5",
   "metadata": {},
   "outputs": [],
   "source": [
    "first_blnd = sns.scatterplot(data = user_first_blnd_mist_week, x = 'game_date', y = 'mean_first_blnd_mist')\n",
    "first_blnd = sns.lineplot(data = user_first_blnd_mist_week, x = 'game_date', y = 'mean_first_blnd_mist')\n",
    "first_blnd.set(xlabel = \"Date\",\n",
    "               ylabel = \"Average Move Number of First Blunder or Mistake\",\n",
    "               title = \"Average Move Number of First Blunder or Mistake by Week\")\n",
    "\n",
    "plt.gcf().set_size_inches(15, 8)"
   ]
  },
  {
   "cell_type": "code",
   "execution_count": null,
   "id": "dd242959",
   "metadata": {},
   "outputs": [],
   "source": [
    "# calculate the number of games played by week\n",
    "num_games_week = (scored_games.groupby(pd.Grouper(key = 'game_date', freq = \"1W\"))\n",
    "                  ['game_id']\n",
    "                  .agg(num_games = pd.Series.nunique))\n",
    "\n",
    "# calculate the number of mistakes or blunders made by the user\n",
    "# first filter by moves where the user of interest made the move and the move was either a blunder or a mistake\n",
    "num_games_blnd_mist_week = (scored_games.loc[(scored_games['player_move'] == user) & ((scored_games['blunder']) | (scored_games['mistake']))]\n",
    "                            # group by week\n",
    "                            .groupby(pd.Grouper(key = 'game_date', freq = \"1W\"))\n",
    "                            # select the blunder and mistake columns\n",
    "                            [['blunder', 'mistake']]\n",
    "                            # aggregate by\n",
    "                            .agg({'blunder':'sum','mistake':'sum'}))\n",
    "num_games_blnd_mist_week['blnd_mist'] = num_games_blnd_mist_week['blunder'] + num_games_blnd_mist_week['mistake']\n",
    "\n",
    "weekly_blnd_mist_summary = num_games_blnd_mist_week.join(num_games_week)\n",
    "weekly_blnd_mist_summary['blnd_mist_game_avg'] = weekly_blnd_mist_summary['blnd_mist'] / weekly_blnd_mist_summary['num_games']\n",
    "weekly_blnd_mist_summary"
   ]
  },
  {
   "cell_type": "code",
   "execution_count": null,
   "id": "f759db3e",
   "metadata": {},
   "outputs": [],
   "source": [
    "weekly_blnds = sns.scatterplot(data = weekly_blnd_mist_summary, x = 'game_date', y = 'blnd_mist_game_avg')\n",
    "weekly_blnds = sns.lineplot(data = weekly_blnd_mist_summary, x = 'game_date', y = 'blnd_mist_game_avg')\n",
    "#weekly_blnds = sns.lineplot(data = weekly_blnd_mist_summary, x = \"game_date\", y = 'blunder', color = \"red\")\n",
    "#weekly_blnds = sns.lineplot(data = weekly_blnd_mist_summary, x = \"game_date\", y = 'mistake', color = \"green\")\n",
    "#plt.plot(weekly_blnd_mist_summary.index, weekly_blnd_mist_summary['blnd_mist_game_avg'])\n",
    "\n",
    "plt.gcf().set_size_inches(15, 8)"
   ]
  },
  {
   "cell_type": "code",
   "execution_count": null,
   "id": "65b5188e",
   "metadata": {},
   "outputs": [],
   "source": [
    "palette = sns.color_palette(['black'], len(scored_games['end_time'].unique()))\n",
    "\n",
    "game_plot = sns.relplot(data = scored_games,\n",
    "                        x = \"move_number_actual\",\n",
    "                        y = \"score\",\n",
    "                        hue='end_time',\n",
    "                        row = \"user_color\",\n",
    "                        kind=\"line\",\n",
    "                        alpha = 0.1,\n",
    "                        palette=palette,\n",
    "                        legend=False)\n",
    "\n",
    "# set the x and y labels\n",
    "game_plot.set(xlabel = \"Move Number\",\n",
    "              ylabel = \"Stockfish Analysis Score (pawns)\")\n",
    "\n",
    "# set the titles of both the charts to the user and color\n",
    "game_plot.set_titles(user + ' playing as {row_name}')\n",
    "\n",
    "# add horizontal black line at y = 0, to both plots\n",
    "axes = game_plot.axes.flatten()\n",
    "for ax in axes:\n",
    "    ax.axhline(0, color = \"black\", linewidth = 1)\n",
    "   \n",
    "plt.gcf().set_size_inches(15, 8)\n",
    "\n",
    "# code below fills above line\n",
    "#game_plot.fill_between(first_game_copy['move_number_actual'],\n",
    "#                      first_game_copy['score'], where = first_game_copy['score'] < 0,\n",
    "#                      color=\"black\", alpha = 0.3)"
   ]
  }
 ],
 "metadata": {
  "kernelspec": {
   "display_name": "Python 3",
   "language": "python",
   "name": "python3"
  },
  "language_info": {
   "codemirror_mode": {
    "name": "ipython",
    "version": 3
   },
   "file_extension": ".py",
   "mimetype": "text/x-python",
   "name": "python",
   "nbconvert_exporter": "python",
   "pygments_lexer": "ipython3",
   "version": "3.6.9"
  }
 },
 "nbformat": 4,
 "nbformat_minor": 5
}
