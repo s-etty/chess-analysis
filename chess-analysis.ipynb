{
 "cells": [
  {
   "cell_type": "markdown",
   "id": "a6b8bc8e",
   "metadata": {},
   "source": [
    "# Chess Analysis with Stockfish\n",
    "\n",
    "I play way too much chess, but honestly, I'm terrible. Thinking about the games I've played recently, I would say I do pretty well up until somewhere around the tenth move, then things start to break down. But can I can get a better sense of when I begin to fall apart? Would I be a better player if I could keep it together longer?\n",
    "\n",
    "## Hypothesis\n",
    "\n",
    "If I am able to make my first blunder or mistake later in the game, I can become a better chess player. In theory, if my opponent makes the first mistake and I'm able to capatilize on it, then I should win.\n",
    "\n",
    "### Resources\n",
    "\n",
    "[Stockfish](https://stockfishchess.org/) is an open source chess engine that can recommend the best moves, identify mistakes, and more. I'll be using this engine to analyze all of the games on my [chess.com](https://www.chess.com/) profile\n",
    "\n",
    "### Get the Data\n",
    "\n",
    "The code below will load games in Portable Game Notation (PGN) from Chess.com. Change the value of the variable user to analyze a different person.\n"
   ]
  },
  {
   "cell_type": "code",
   "execution_count": 23,
   "id": "e3d20b45",
   "metadata": {},
   "outputs": [],
   "source": [
    "from stockfish import Stockfish\n",
    "import numpy as np\n",
    "import pandas as pd\n",
    "import chess\n",
    "import chess.pgn\n",
    "import datetime\n",
    "import tqdm\n",
    "import matplotlib.pyplot as plt\n",
    "import seaborn as sns\n",
    "import os\n",
    "import requests\n",
    "\n",
    "# this is the path to the .exe of stockfish, not the stockfish python module\n",
    "stockfish = Stockfish(path=\"stockfish_15.1_win_x64_avx2/stockfish-windows-2022-x86-64-avx2.exe\")"
   ]
  },
  {
   "cell_type": "code",
   "execution_count": 28,
   "id": "5758bae4",
   "metadata": {},
   "outputs": [
    {
     "data": {
      "text/plain": [
       "[0, 731, 269]"
      ]
     },
     "execution_count": 28,
     "metadata": {},
     "output_type": "execute_result"
    }
   ],
   "source": [
    "stockfish.set_position([\"f2f3\", \"e7e5\"])\n",
    "stockfish.get_wdl_stats()"
   ]
  },
  {
   "cell_type": "code",
   "execution_count": null,
   "id": "8eba69a7",
   "metadata": {},
   "outputs": [],
   "source": [
    "# get chess.com data for a specific user\n",
    "# unable to get api working right now. will fix later\n",
    "\n",
    "#user = \"settty\"\n",
    "#response = requests.get(\"https://www.chess.com/\")\n",
    "#response = requests.get(\"https://api.chess.com/pub/player/\"+user+\"/games/archives\", verify='chess_cert.pem')\n",
    "#print(response)\n",
    "#obj = response.json\n",
    "#for url in json.loads(pgn_archive_links.content)[\"archives\"]:\n",
    "        #filepath = PGNDirectory + \"/\"+ url.split(\"/\")[7]+url.split(\"/\")[8]+'.pgn'\n",
    "        #print(url)\n"
   ]
  },
  {
   "cell_type": "code",
   "execution_count": null,
   "id": "87660275",
   "metadata": {},
   "outputs": [],
   "source": [
    "# read the data from the pgn file and convert it into a dataframe. Clean data as well.\n",
    "user = \"settty\"\n",
    "\n",
    "# if the loaded_games.csv file exists, load the data\n",
    "if os.path.isfile('data/loaded_games.csv'):\n",
    "    # the converters part of this takes the moves_list column and turns it into a list column as opposed to a column with the\n",
    "    # string \"['e2e4', 'e7e5']\"\"\n",
    "    loaded_games = pd.read_csv('data/loaded_games.csv', converters={\"moves_list\": lambda x: x.strip(\"[]\").replace(\"'\",\"\").split(\", \")})\n",
    "    loaded_games['game_date'] = pd.to_datetime(loaded_games['game_date'])\n",
    "    \n",
    "#create an empty rows list that will be used to convert into a pd dataframe\n",
    "else:\n",
    "    rows=[]\n",
    "    with open(f'data/settty-chess-games-2022-12-15.pgn') as pgn:\n",
    "        # tqdm is just for adding a progress bar\n",
    "        # the for loop is needed because we need to call chess.pgn.read_game to get it to read each successive game in the pgn\n",
    "        for i in tqdm.tqdm(range(50)):\n",
    "            # will need to make the above line dynamic to the number of rowns in the pgn\n",
    "            row = {}\n",
    "            game = chess.pgn.read_game(pgn)\n",
    "            # below line contains all the header info in a nested list. I have extracted it in the row['game_date']... lines below\n",
    "            # if I need more header info, uncomment the line below and look for the right piece to extract\n",
    "            #row['headers']=game.headers.__dict__\n",
    "            row['game_date'] = game.headers[\"Date\"]\n",
    "            row['white'] = game.headers['White']\n",
    "            row['black'] = game.headers['Black']\n",
    "            # will use the termination statement to determine the winner. This will be easier than figuring out who won from the\n",
    "            # result which would be difficult when playing friends\n",
    "            row['result'] = game.headers['Termination']\n",
    "\n",
    "            # get the user that won\n",
    "            if row['white'] in row['result']:\n",
    "                row['winner'] = row['white']\n",
    "            elif row['black'] in row['result']:\n",
    "                row['winner'] = row['black']\n",
    "            else:\n",
    "                row['winner'] = 'draw'\n",
    "\n",
    "            # get the user color\n",
    "            if row['white'] == user:\n",
    "                row['user_color'] = 'white'\n",
    "            else:\n",
    "                row['user_color'] = 'black'\n",
    "\n",
    "            # split into categories for counting winners\n",
    "            if row['winner'] == user:\n",
    "                row['winner_count'] = row['winner']\n",
    "            elif row['winner'] == 'draw':\n",
    "                row['winner_count'] = 'draw'\n",
    "            else:\n",
    "                row['winner_count'] = 'other'\n",
    "\n",
    "            if 'EndTime' in game.headers:\n",
    "                row['end_time'] = game.headers['EndTime']\n",
    "            else:\n",
    "                row['end_time'] = game.headers['EndDate']\n",
    "            row['time_control'] = game.headers['TimeControl']\n",
    "            row['white_elo'] = game.headers['WhiteElo']\n",
    "            row['black_elo'] = game.headers['BlackElo']\n",
    "            row['moves']=[x.uci() for x in game.mainline_moves()]\n",
    "            rows.append(row)\n",
    "\n",
    "    #create a pd df of the extracted data\n",
    "    loaded_games = pd.DataFrame(rows)\n",
    "\n",
    "    #convert the date into a date object\n",
    "    loaded_games['game_date'] = pd.to_datetime(loaded_games['game_date'])\n",
    "    \n",
    "    # need to fix this part if the file already exists and we're adding new id's. Should get the largest id and start from there\n",
    "    # assign a unique id to each game because chess.com doesn't supply one\n",
    "    loaded_games['game_id'] = np.arange(50, 100)\n",
    "\n",
    "    # explode the moves column. it is a column with each row containing a list\n",
    "    loaded_games = loaded_games.explode('moves')\n",
    "\n",
    "    #the line below adds all the moves into a single string of all the moves\n",
    "    loaded_games['moves_list'] = loaded_games.groupby('end_time')['moves'].apply(lambda x: (x + ' ').cumsum().str.strip())\n",
    "    loaded_games['moves_list'] = loaded_games['moves_list'].str.split()\n",
    "\n",
    "    # group each row by the end time and then add a counter for each row in the group. Then apply floor division to get the move\n",
    "    # number. a \"move\" is each player making a turn.\n",
    "    loaded_games['move_number'] = loaded_games.groupby('end_time').cumcount()//2\n",
    "    loaded_games['move_number_actual'] = loaded_games.groupby('end_time').cumcount() "
   ]
  },
  {
   "cell_type": "code",
   "execution_count": null,
   "id": "db8a5127",
   "metadata": {},
   "outputs": [],
   "source": [
    "# look at basic description of df\n",
    "loaded_games.info()"
   ]
  },
  {
   "cell_type": "code",
   "execution_count": null,
   "id": "e115ca92",
   "metadata": {},
   "outputs": [],
   "source": [
    "# see how many games user has won, draws, and wins by other users\n",
    "loaded_games.groupby('end_time').first().winner_count.value_counts()"
   ]
  },
  {
   "cell_type": "code",
   "execution_count": null,
   "id": "eefc9e8a",
   "metadata": {},
   "outputs": [],
   "source": [
    "# the data is faster to load from a csv, though with the number of games I have, it's not too slow. But there should be a check\n",
    "# when I get the api working where it looks at the last game in the csv and then gets any games more recent than that and\n",
    "# applies the above loading and cleaning. Will come later\n",
    "#hdr = False  if os.path.isfile('data/loaded_games.csv') else True\n",
    "#loaded_games.to_csv(\"data/loaded_games.csv\", mode = 'a', index = False, header = hdr)"
   ]
  },
  {
   "cell_type": "markdown",
   "id": "610c3daa",
   "metadata": {},
   "source": [
    "### Run the Chess Engine\n",
    "\n",
    "Ok now that we have the data loaded, let's start to run the Stockfish chess engine on games, move by move. This process takes a lot of processing power, so be patient while it analyzes every move. It took about 15 minutes to process 50 games.\n",
    "\n",
    "The chess engine will output an analysis of the board in a unit know as [centipawns](https://en.wiktionary.org/wiki/centipawn#:~:text=Noun,calculation%20purposes%20in%20computer%20chess). A centipawn represents the value of a single pawn. In other words, if you are up 100 centipawns, you are up a single pawn (though it's more complicated than that).\n",
    "\n",
    "One key thing to remember is that when playing as white, a positive centipawn value means white holds a lead, while a negative centipawn value means black holds a lead."
   ]
  },
  {
   "cell_type": "code",
   "execution_count": null,
   "id": "e5397abd",
   "metadata": {},
   "outputs": [],
   "source": [
    "# This will come in handy when looking at the games that are loaded vs the games that have been scored.\n",
    "scored_games['game_date'].max() > scored_games['game_date'].min()"
   ]
  },
  {
   "cell_type": "code",
   "execution_count": null,
   "id": "837465ba",
   "metadata": {},
   "outputs": [],
   "source": [
    "if os.path.isfile('data/scored_games.csv'):\n",
    "    scored_games = pd.read_csv('data/scored_games.csv')\n",
    "#elif os.path.isfile('data/scored_games.csv') & scored_games['game_date'].max() < loaded_games['game_date'].max():\n",
    "    #work on this code later\n",
    "    #print(\"There are newer games to be scored\")\n",
    "else:\n",
    "    rows = []\n",
    "    # this computation is slow as the engine needs to evaluate each move\n",
    "    # should look into ways to make this more efficient. possibly faster to make each move and evaluate as opposed to\n",
    "    # setting the position for each move in the game and evaluate, i.e., use stockfish.make_moves_from_current_position(...) instead\n",
    "    # of using stockfish.set_position(...)\n",
    "    #first_games = games.loc[(games['end_time'] == '23:15:57 PST') | (games['end_time'] == '16:44:56 PST')]\n",
    "\n",
    "    # the line below is for just a couple of games\n",
    "    #for index, row in first_games.iterrows():\n",
    "\n",
    "    # the line below itterates through all rows and is the most general but have no indication of progress\n",
    "    #for index, row in games.iterrows():\n",
    "\n",
    "    # the line below includes a percentage tracker, but is using a static value for number of rows for the df above\n",
    "    for i in tqdm.tqdm(range(len(loaded_games.index))):\n",
    "        row = loaded_games.iloc[i]\n",
    "        new_row = {}\n",
    "        new_row['end_time'] = row['end_time']\n",
    "        stockfish.set_position(row['moves_list'])\n",
    "        scores = stockfish.get_evaluation()\n",
    "        new_row['move_number_actual'] = row['move_number_actual']\n",
    "        new_row['score_type'] =(scores['type'])\n",
    "        new_row['score'] = scores['value'] / 100\n",
    "        rows.append(new_row)\n",
    "\n",
    "    score_df = pd.DataFrame(rows)\n",
    "    scored_games = pd.merge(loaded_games, score_df, on=[\"end_time\", \"move_number_actual\"])\n",
    "    #first_games = first_games.merge(score_df, on=[\"end_time\", \"move_number_actual\"])\n",
    "    \n",
    "scored_games['game_date'] = pd.to_datetime(scored_games['game_date'])"
   ]
  },
  {
   "cell_type": "code",
   "execution_count": null,
   "id": "99f1b361",
   "metadata": {},
   "outputs": [],
   "source": [
    "# this csv will contain the scored games\n",
    "# need to fix that it writes the headers when appending\n",
    "#scored_games.to_csv(\"data/scored_games.csv\", mode = 'a', index=False)"
   ]
  },
  {
   "cell_type": "markdown",
   "id": "72197ca6",
   "metadata": {},
   "source": [
    "### Analyze the Games\n",
    "\n",
    "At this point, we're ready to start analyzing the scored games. We'll label each move as either a blunder, mistake, or neither. Then we'll look at whether making the first blunder or mistake affects the outcome of the game. Lastly, we'll look at the trend in blunders and mistakes made to see if my chess is improving, i.e., if I'm making blunders and mistakes later in the game."
   ]
  },
  {
   "cell_type": "code",
   "execution_count": null,
   "id": "5cc7e3ed",
   "metadata": {},
   "outputs": [],
   "source": [
    "# not sure if this is needed anymore\n",
    "#first_game_copy = first_games.copy()\n",
    "#first_game_copy.loc[first_game_copy['score'] >= 0, 'game_direction'] = 'white'\n",
    "#first_game_copy.loc[first_game_copy['score'] < 0, 'game_direction'] = 'black'\n",
    "#first_game_copy\n",
    "scored_games.info()"
   ]
  },
  {
   "cell_type": "code",
   "execution_count": null,
   "id": "da9ed60d",
   "metadata": {},
   "outputs": [],
   "source": [
    "# negative score change moves in black favor\n",
    "# positive score change moves in white favor\n",
    "# the fill na sets the score change to the score for the first row of each group\n",
    "scored_games['score_change'] = scored_games.groupby('end_time').score.diff().fillna(scored_games['score'])\n",
    "\n",
    "# according to lichess.org, a blunder is any change greater than or equal to 3 pawns\n",
    "# don't forget to ge the absolute value of the score change. A -5.0 change is not greater than 3 but still represents a blunder\n",
    "# favoring black.\n",
    "scored_games['blunder'] = [True if (x >=  3) else False for x in scored_games['score_change'].abs()]\n",
    "\n",
    "# according to lichess.org, a mistake is any change greater than or equal to 1 pawn but less than 3 pawns\n",
    "#df['color'] = ['red' if x == 'Z' else 'green' for x in df['Set']]\n",
    "scored_games['mistake'] = [True if (x >= 1.0) & (x < 3.0) else False for x in scored_games['score_change'].abs()]"
   ]
  },
  {
   "cell_type": "code",
   "execution_count": null,
   "id": "7f9b80b3",
   "metadata": {},
   "outputs": [],
   "source": [
    "#will not include inaccuracies at this point but could be interesting to look at later\n",
    "\n",
    "#identify the user that made the move\n",
    "conditions = [scored_games['move_number_actual'] % 2 == 0,\n",
    "             scored_games['move_number_actual'] % 2 == 1]\n",
    "\n",
    "choices = [scored_games['white'], scored_games['black']]\n",
    "scored_games['player_move'] = np.select(conditions, choices)"
   ]
  },
  {
   "cell_type": "code",
   "execution_count": null,
   "id": "6203dbff",
   "metadata": {},
   "outputs": [],
   "source": [
    "# confirm that mistakes and blunders are being labeled accurately\n",
    "scored_games.loc[(scored_games['mistake'] == True) | (scored_games['blunder']),\n",
    "                 ['game_id', 'white', 'black', 'winner', 'move_number_actual', 'score_change', 'blunder', 'mistake']].head(10)"
   ]
  },
  {
   "cell_type": "code",
   "execution_count": null,
   "id": "24058670",
   "metadata": {},
   "outputs": [],
   "source": [
    "# identify player who made first blunder\n",
    "# odd numbered move_number_actual = black player move, even numbered move_number_actual = white player move\n",
    "first_blnd_mist = scored_games[(scored_games['blunder'] == True) | (scored_games['mistake'] == True)].groupby('end_time').first()\n",
    "first_blnd_mist.loc[first_blnd_mist['move_number_actual'] % 2 == 0, 'first_player_blunder'] = first_blnd_mist['white']\n",
    "first_blnd_mist.loc[first_blnd_mist['move_number_actual'] % 2 == 1, 'first_player_blunder'] = first_blnd_mist['black']\n",
    "first_blnd_mist.loc[first_blnd_mist['winner'] == first_blnd_mist['first_player_blunder'], 'first_blunder_loss'] = False\n",
    "first_blnd_mist.loc[first_blnd_mist['winner'] != first_blnd_mist['first_player_blunder'], 'first_blunder_loss'] = True\n",
    "#first_blnd_mist[['winner', 'first_player_blunder', 'first_blunder_loss']]\n",
    "#first_blnd_mist[['winner', 'blunder', 'mistake', 'move_number_actual']]\n",
    "first_blnd_mist['first_blunder_loss'].value_counts()"
   ]
  },
  {
   "cell_type": "markdown",
   "id": "6a08a891",
   "metadata": {},
   "source": [
    "The code above shows that the player that makes the first blunder or mistake is more likely to lose the game.\n",
    "\n",
    "Note that a game can end without a mistake or blunder being made *and* there is a winner. This happens when someone resigns or times out before a mistake of blunder happens. I know that I have done this and played others that have done this as well. This means that the games above plus draws will not necessarily add up to the total number of games played."
   ]
  },
  {
   "cell_type": "code",
   "execution_count": null,
   "id": "9f710109",
   "metadata": {},
   "outputs": [],
   "source": [
    "user_first_blnd_mist = first_blnd_mist.loc[first_blnd_mist['first_player_blunder'] == user]\n",
    "sns.histplot(data=user_first_blnd_mist, x=\"move_number\", binwidth=1)"
   ]
  },
  {
   "cell_type": "code",
   "execution_count": null,
   "id": "521ce7e9",
   "metadata": {},
   "outputs": [],
   "source": [
    "# get the average move number where the user makes their first mistake or blunder\n",
    "num_games_week = (scored_games.groupby(pd.Grouper(key = 'game_date', freq = \"1W\"))\n",
    "                  ['game_id']\n",
    "                  .agg(num_games = pd.Series.nunique))\n",
    "\n",
    "user_first_blnd_mist_week = (user_first_blnd_mist.groupby(pd.Grouper(key = 'game_date', freq = \"1W\"))\n",
    "                             .agg(min_first_blnd_mist = ('move_number', 'min'),\n",
    "                                 mean_first_blnd_mist = ('move_number', 'mean'),\n",
    "                                 max_first_blnd_mist = ('move_number', 'max')))\n",
    "#user_first_blnd_mist_week\n",
    "user_first_blnd_mist_week = user_first_blnd_mist_week.join(num_games_week)"
   ]
  },
  {
   "cell_type": "code",
   "execution_count": null,
   "id": "be68a6a5",
   "metadata": {},
   "outputs": [],
   "source": [
    "first_blnd = sns.scatterplot(data = user_first_blnd_mist_week, x = 'game_date', y = 'mean_first_blnd_mist')\n",
    "first_blnd = sns.lineplot(data = user_first_blnd_mist_week, x = 'game_date', y = 'mean_first_blnd_mist')\n",
    "first_blnd.set(xlabel = \"Date\",\n",
    "               ylabel = \"Average Move Number of First Blunder or Mistake\",\n",
    "               title = \"Average Move Number of First Blunder or Mistake by Week\")\n",
    "\n",
    "plt.gcf().set_size_inches(15, 8)"
   ]
  },
  {
   "cell_type": "code",
   "execution_count": null,
   "id": "dd242959",
   "metadata": {},
   "outputs": [],
   "source": [
    "# calculate the number of games played by week\n",
    "num_games_week = (scored_games.groupby(pd.Grouper(key = 'game_date', freq = \"1W\"))\n",
    "                  ['game_id']\n",
    "                  .agg(num_games = pd.Series.nunique))\n",
    "\n",
    "# calculate the number of mistakes or blunders made by the user\n",
    "# first filter by moves where the user of interest made the move and the move was either a blunder or a mistake\n",
    "num_games_blnd_mist_week = (scored_games.loc[(scored_games['player_move'] == user) & ((scored_games['blunder']) | (scored_games['mistake']))]\n",
    "                            # group by week\n",
    "                            .groupby(pd.Grouper(key = 'game_date', freq = \"1W\"))\n",
    "                            # select the blunder and mistake columns\n",
    "                            [['blunder', 'mistake']]\n",
    "                            # aggregate by\n",
    "                            .agg({'blunder':'sum','mistake':'sum'}))\n",
    "num_games_blnd_mist_week['blnd_mist'] = num_games_blnd_mist_week['blunder'] + num_games_blnd_mist_week['mistake']\n",
    "\n",
    "weekly_blnd_mist_summary = num_games_blnd_mist_week.join(num_games_week)\n",
    "weekly_blnd_mist_summary['blnd_mist_game_avg'] = weekly_blnd_mist_summary['blnd_mist'] / weekly_blnd_mist_summary['num_games']\n",
    "weekly_blnd_mist_summary"
   ]
  },
  {
   "cell_type": "code",
   "execution_count": null,
   "id": "f759db3e",
   "metadata": {},
   "outputs": [],
   "source": [
    "weekly_blnds = sns.scatterplot(data = weekly_blnd_mist_summary, x = 'game_date', y = 'blnd_mist_game_avg')\n",
    "weekly_blnds = sns.lineplot(data = weekly_blnd_mist_summary, x = 'game_date', y = 'blnd_mist_game_avg')\n",
    "#weekly_blnds = sns.lineplot(data = weekly_blnd_mist_summary, x = \"game_date\", y = 'blunder', color = \"red\")\n",
    "#weekly_blnds = sns.lineplot(data = weekly_blnd_mist_summary, x = \"game_date\", y = 'mistake', color = \"green\")\n",
    "#plt.plot(weekly_blnd_mist_summary.index, weekly_blnd_mist_summary['blnd_mist_game_avg'])\n",
    "\n",
    "plt.gcf().set_size_inches(15, 8)"
   ]
  },
  {
   "cell_type": "code",
   "execution_count": null,
   "id": "65b5188e",
   "metadata": {},
   "outputs": [],
   "source": [
    "palette = sns.color_palette(['black'], len(scored_games['end_time'].unique()))\n",
    "\n",
    "game_plot = sns.relplot(data = scored_games,\n",
    "                        x = \"move_number_actual\",\n",
    "                        y = \"score\",\n",
    "                        hue='end_time',\n",
    "                        row = \"user_color\",\n",
    "                        kind=\"line\",\n",
    "                        alpha = 0.1,\n",
    "                        palette=palette,\n",
    "                        legend=False)\n",
    "\n",
    "# set the x and y labels\n",
    "game_plot.set(xlabel = \"Move Number\",\n",
    "              ylabel = \"Stockfish Analysis Score (pawns)\")\n",
    "\n",
    "# set the titles of both the charts to the user and color\n",
    "game_plot.set_titles(user + ' playing as {row_name}')\n",
    "\n",
    "# add horizontal black line at y = 0, to both plots\n",
    "axes = game_plot.axes.flatten()\n",
    "for ax in axes:\n",
    "    ax.axhline(0, color = \"black\", linewidth = 1)\n",
    "   \n",
    "plt.gcf().set_size_inches(15, 8)\n",
    "\n",
    "# code below fills above line\n",
    "#game_plot.fill_between(first_game_copy['move_number_actual'],\n",
    "#                      first_game_copy['score'], where = first_game_copy['score'] < 0,\n",
    "#                      color=\"black\", alpha = 0.3)"
   ]
  }
 ],
 "metadata": {
  "kernelspec": {
   "display_name": "Python 3",
   "language": "python",
   "name": "python3"
  },
  "language_info": {
   "codemirror_mode": {
    "name": "ipython",
    "version": 3
   },
   "file_extension": ".py",
   "mimetype": "text/x-python",
   "name": "python",
   "nbconvert_exporter": "python",
   "pygments_lexer": "ipython3",
   "version": "3.6.9"
  }
 },
 "nbformat": 4,
 "nbformat_minor": 5
}
