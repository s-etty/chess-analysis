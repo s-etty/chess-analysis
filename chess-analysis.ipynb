{
 "cells": [
  {
   "cell_type": "markdown",
   "id": "a6b8bc8e",
   "metadata": {},
   "source": [
    "# Chess Analysis with Stockfish\n",
    "\n",
    "I play way too much chess, but honestly, I'm terrible. Thinking about the games I've played recently, I would say I do pretty well up until some where around the tenth move, then things start to break down. But can I can get a better sense of when I begin to fall apart?\n",
    "\n",
    "[Stockfish](https://stockfishchess.org/) is an open source chess engine that can recommend the best moves, identify mistakes, and more. I'll be using this engine to analyze all of the games on my [chess.com](https://www.chess.com/) profile"
   ]
  },
  {
   "cell_type": "code",
   "execution_count": 23,
   "id": "e3d20b45",
   "metadata": {},
   "outputs": [],
   "source": [
    "from stockfish import Stockfish\n",
    "stockfish = Stockfish(path=\"C:/Users/ettenro/OneDrive - Lam Research/Documents/Python/chess-analysis/stockfish_15.1_win_x64_avx2/stockfish-windows-2022-x86-64-avx2.exe\")"
   ]
  },
  {
   "cell_type": "code",
   "execution_count": 28,
   "id": "5758bae4",
   "metadata": {},
   "outputs": [
    {
     "data": {
      "text/plain": [
       "[0, 731, 269]"
      ]
     },
     "execution_count": 28,
     "metadata": {},
     "output_type": "execute_result"
    }
   ],
   "source": [
    "stockfish.set_position([\"f2f3\", \"e7e5\"])\n",
    "stockfish.get_wdl_stats()"
   ]
  }
 ],
 "metadata": {
  "kernelspec": {
   "display_name": "Python 3 (ipykernel)",
   "language": "python",
   "name": "python3"
  },
  "language_info": {
   "codemirror_mode": {
    "name": "ipython",
    "version": 3
   },
   "file_extension": ".py",
   "mimetype": "text/x-python",
   "name": "python",
   "nbconvert_exporter": "python",
   "pygments_lexer": "ipython3",
   "version": "3.9.12"
  }
 },
 "nbformat": 4,
 "nbformat_minor": 5
}
